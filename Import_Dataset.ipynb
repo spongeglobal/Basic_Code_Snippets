{
  "nbformat": 4,
  "nbformat_minor": 0,
  "metadata": {
    "colab": {
      "provenance": []
    },
    "kernelspec": {
      "name": "python3",
      "display_name": "Python 3"
    },
    "language_info": {
      "name": "python"
    }
  },
  "cells": [
    {
      "cell_type": "code",
      "execution_count": null,
      "metadata": {
        "id": "b2_9AaQqWpYB"
      },
      "outputs": [],
      "source": [
        "import pandas as pd\n",
        "df = pd.read_csv (\"Advertising.csv\")\n",
        "df.head()"
      ]
    },
    {
      "cell_type": "code",
      "source": [],
      "metadata": {
        "id": "UsnIw9O2Xk6v"
      },
      "execution_count": null,
      "outputs": []
    }
  ]
}