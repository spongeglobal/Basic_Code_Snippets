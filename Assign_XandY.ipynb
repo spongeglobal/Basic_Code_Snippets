{
  "nbformat": 4,
  "nbformat_minor": 0,
  "metadata": {
    "colab": {
      "provenance": []
    },
    "kernelspec": {
      "name": "python3",
      "display_name": "Python 3"
    },
    "language_info": {
      "name": "python"
    }
  },
  "cells": [
    {
      "cell_type": "code",
      "execution_count": null,
      "metadata": {
        "id": "b2_9AaQqWpYB"
      },
      "outputs": [],
      "source": [
        "import pandas as pd\n",
        "df = pd.read_csv (\"Advertising.csv\")\n",
        "df.head()"
      ]
    },
    {
      "cell_type": "code",
      "source": [
        "Y=df['Sales']\n",
        "X=df[['TV','Newspaper','Radio']]\n",
        "X_new=[[40,50,60]]\n",
        "\n",
        "import seaborn as sns\n",
        "sns.pairplot(df, x_vars=['TV','Radio','Newspaper'], y_vars='Sales', size=7, aspect=0.7)\n",
        "\n",
        "import sklearn\n",
        "from sklearn.linear_model import LinearRegression\n",
        "\n",
        "MyModel=LinearRegression()\n",
        "\n",
        "MyModel.fit(X,Y)\n",
        "\n",
        "print the coefficients\n",
        "print(MyModel.intercept_)\n",
        "print(MyModel.coef_)\n",
        "\n",
        "\n",
        "Y_Pred=MyModel.predict(X_new)\n",
        "\n",
        "Y_Pred"
      ],
      "metadata": {
        "id": "UsnIw9O2Xk6v"
      },
      "execution_count": null,
      "outputs": []
    }
  ]
}